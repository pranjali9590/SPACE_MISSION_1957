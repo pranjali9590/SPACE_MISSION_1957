{
 "cells": [
  {
   "cell_type": "code",
   "execution_count": 36,
   "id": "36108f24",
   "metadata": {},
   "outputs": [],
   "source": [
    "import pandas as pd"
   ]
  },
  {
   "cell_type": "code",
   "execution_count": 37,
   "id": "10940569",
   "metadata": {},
   "outputs": [],
   "source": [
    "df = pd.read_csv(\"C:\\\\New folder\\\\Space_Missions_Cleaned.csv\")"
   ]
  },
  {
   "cell_type": "code",
   "execution_count": 38,
   "id": "6513b723",
   "metadata": {},
   "outputs": [
    {
     "data": {
      "text/plain": [
       "Company Name         0\n",
       "Location             0\n",
       "Datum                0\n",
       "Detail               0\n",
       "Status Rocket        0\n",
       "Rocket            3360\n",
       "Status Mission       0\n",
       "Country              0\n",
       "DateTime             0\n",
       "Year                 0\n",
       "Launch_Site          0\n",
       "Count                0\n",
       "Month                0\n",
       "dtype: int64"
      ]
     },
     "execution_count": 38,
     "metadata": {},
     "output_type": "execute_result"
    }
   ],
   "source": [
    "df.isnull().sum()# To find how many values are missing"
   ]
  },
  {
   "cell_type": "code",
   "execution_count": 39,
   "id": "65014e31",
   "metadata": {},
   "outputs": [
    {
     "name": "stdout",
     "output_type": "stream",
     "text": [
      "<class 'pandas.core.frame.DataFrame'>\n",
      "RangeIndex: 4324 entries, 0 to 4323\n",
      "Data columns (total 13 columns):\n",
      " #   Column          Non-Null Count  Dtype  \n",
      "---  ------          --------------  -----  \n",
      " 0   Company Name    4324 non-null   object \n",
      " 1   Location        4324 non-null   object \n",
      " 2   Datum           4324 non-null   object \n",
      " 3   Detail          4324 non-null   object \n",
      " 4   Status Rocket   4324 non-null   object \n",
      " 5   Rocket          964 non-null    float64\n",
      " 6   Status Mission  4324 non-null   object \n",
      " 7   Country         4324 non-null   object \n",
      " 8   DateTime        4324 non-null   object \n",
      " 9   Year            4324 non-null   int64  \n",
      " 10  Launch_Site     4324 non-null   object \n",
      " 11  Count           4324 non-null   int64  \n",
      " 12  Month           4324 non-null   object \n",
      "dtypes: float64(1), int64(2), object(10)\n",
      "memory usage: 439.3+ KB\n"
     ]
    }
   ],
   "source": [
    "df.info()"
   ]
  },
  {
   "cell_type": "code",
   "execution_count": 41,
   "id": "424affaa",
   "metadata": {},
   "outputs": [],
   "source": [
    "#df=df.rename(columns={' Rocket':'Rocket'})\n",
    "#df['Rocket'] = df['Rocket'].str.replace(',','')\n",
    "#df['Rocket'] = pd.to_numeric(df['Rocket'])\n",
    "df['Rocket'] = df['Rocket'].fillna(df['Rocket'].mean())"
   ]
  },
  {
   "cell_type": "code",
   "execution_count": 33,
   "id": "da515b40",
   "metadata": {},
   "outputs": [
    {
     "data": {
      "text/plain": [
       "Unnamed: 0.1      0\n",
       "Unnamed: 0        0\n",
       "Company Name      0\n",
       "Location          0\n",
       "Datum             0\n",
       "Detail            0\n",
       "Status Rocket     0\n",
       "Rocket            0\n",
       "Status Mission    0\n",
       "dtype: int64"
      ]
     },
     "execution_count": 33,
     "metadata": {},
     "output_type": "execute_result"
    }
   ],
   "source": [
    "df.isnull().sum()"
   ]
  },
  {
   "cell_type": "code",
   "execution_count": 42,
   "id": "9c0a9aab",
   "metadata": {},
   "outputs": [
    {
     "data": {
      "text/html": [
       "<div>\n",
       "<style scoped>\n",
       "    .dataframe tbody tr th:only-of-type {\n",
       "        vertical-align: middle;\n",
       "    }\n",
       "\n",
       "    .dataframe tbody tr th {\n",
       "        vertical-align: top;\n",
       "    }\n",
       "\n",
       "    .dataframe thead th {\n",
       "        text-align: right;\n",
       "    }\n",
       "</style>\n",
       "<table border=\"1\" class=\"dataframe\">\n",
       "  <thead>\n",
       "    <tr style=\"text-align: right;\">\n",
       "      <th></th>\n",
       "      <th>Company Name</th>\n",
       "      <th>Location</th>\n",
       "      <th>Datum</th>\n",
       "      <th>Detail</th>\n",
       "      <th>Status Rocket</th>\n",
       "      <th>Rocket</th>\n",
       "      <th>Status Mission</th>\n",
       "      <th>Country</th>\n",
       "      <th>DateTime</th>\n",
       "      <th>Year</th>\n",
       "      <th>Launch_Site</th>\n",
       "      <th>Count</th>\n",
       "      <th>Month</th>\n",
       "    </tr>\n",
       "  </thead>\n",
       "  <tbody>\n",
       "    <tr>\n",
       "      <th>0</th>\n",
       "      <td>SpaceX</td>\n",
       "      <td>LC-39A, Kennedy Space Center, Florida, USA</td>\n",
       "      <td>Fri Aug 07, 2020 05:12 UTC</td>\n",
       "      <td>Falcon 9 Block 5 | Starlink V1 L9 &amp; BlackSky</td>\n",
       "      <td>StatusActive</td>\n",
       "      <td>50.000000</td>\n",
       "      <td>Success</td>\n",
       "      <td>USA</td>\n",
       "      <td>2020-08-07 05:12:00+00:00</td>\n",
       "      <td>2020</td>\n",
       "      <td>LC-39A, Kennedy Space Center, Florida</td>\n",
       "      <td>1</td>\n",
       "      <td>Aug</td>\n",
       "    </tr>\n",
       "    <tr>\n",
       "      <th>1</th>\n",
       "      <td>CASC</td>\n",
       "      <td>Site 9401 (SLS-2), Jiuquan Satellite Launch Ce...</td>\n",
       "      <td>Thu Aug 06, 2020 04:01 UTC</td>\n",
       "      <td>Long March 2D | Gaofen-9 04 &amp; Q-SAT</td>\n",
       "      <td>StatusActive</td>\n",
       "      <td>29.750000</td>\n",
       "      <td>Success</td>\n",
       "      <td>China</td>\n",
       "      <td>2020-08-06 04:01:00+00:00</td>\n",
       "      <td>2020</td>\n",
       "      <td>Site 9401 (SLS-2), Jiuquan Satellite Launch Ce...</td>\n",
       "      <td>1</td>\n",
       "      <td>Aug</td>\n",
       "    </tr>\n",
       "    <tr>\n",
       "      <th>2</th>\n",
       "      <td>SpaceX</td>\n",
       "      <td>Pad A, Boca Chica, Texas, USA</td>\n",
       "      <td>Tue Aug 04, 2020 23:57 UTC</td>\n",
       "      <td>Starship Prototype | 150 Meter Hop</td>\n",
       "      <td>StatusActive</td>\n",
       "      <td>153.792199</td>\n",
       "      <td>Success</td>\n",
       "      <td>USA</td>\n",
       "      <td>2020-08-04 23:57:00+00:00</td>\n",
       "      <td>2020</td>\n",
       "      <td>Pad A, Boca Chica, Texas</td>\n",
       "      <td>1</td>\n",
       "      <td>Aug</td>\n",
       "    </tr>\n",
       "    <tr>\n",
       "      <th>3</th>\n",
       "      <td>Roscosmos</td>\n",
       "      <td>Site 200/39, Baikonur Cosmodrome, Kazakhstan</td>\n",
       "      <td>Thu Jul 30, 2020 21:25 UTC</td>\n",
       "      <td>Proton-M/Briz-M | Ekspress-80 &amp; Ekspress-103</td>\n",
       "      <td>StatusActive</td>\n",
       "      <td>65.000000</td>\n",
       "      <td>Success</td>\n",
       "      <td>Kazakhstan</td>\n",
       "      <td>2020-07-30 21:25:00+00:00</td>\n",
       "      <td>2020</td>\n",
       "      <td>Site 200/39, Baikonur Cosmodrome</td>\n",
       "      <td>1</td>\n",
       "      <td>Jul</td>\n",
       "    </tr>\n",
       "    <tr>\n",
       "      <th>4</th>\n",
       "      <td>ULA</td>\n",
       "      <td>SLC-41, Cape Canaveral AFS, Florida, USA</td>\n",
       "      <td>Thu Jul 30, 2020 11:50 UTC</td>\n",
       "      <td>Atlas V 541 | Perseverance</td>\n",
       "      <td>StatusActive</td>\n",
       "      <td>145.000000</td>\n",
       "      <td>Success</td>\n",
       "      <td>USA</td>\n",
       "      <td>2020-07-30 11:50:00+00:00</td>\n",
       "      <td>2020</td>\n",
       "      <td>SLC-41, Cape Canaveral AFS, Florida</td>\n",
       "      <td>1</td>\n",
       "      <td>Jul</td>\n",
       "    </tr>\n",
       "  </tbody>\n",
       "</table>\n",
       "</div>"
      ],
      "text/plain": [
       "  Company Name                                           Location  \\\n",
       "0       SpaceX         LC-39A, Kennedy Space Center, Florida, USA   \n",
       "1         CASC  Site 9401 (SLS-2), Jiuquan Satellite Launch Ce...   \n",
       "2       SpaceX                      Pad A, Boca Chica, Texas, USA   \n",
       "3    Roscosmos       Site 200/39, Baikonur Cosmodrome, Kazakhstan   \n",
       "4          ULA           SLC-41, Cape Canaveral AFS, Florida, USA   \n",
       "\n",
       "                        Datum                                        Detail  \\\n",
       "0  Fri Aug 07, 2020 05:12 UTC  Falcon 9 Block 5 | Starlink V1 L9 & BlackSky   \n",
       "1  Thu Aug 06, 2020 04:01 UTC           Long March 2D | Gaofen-9 04 & Q-SAT   \n",
       "2  Tue Aug 04, 2020 23:57 UTC            Starship Prototype | 150 Meter Hop   \n",
       "3  Thu Jul 30, 2020 21:25 UTC  Proton-M/Briz-M | Ekspress-80 & Ekspress-103   \n",
       "4  Thu Jul 30, 2020 11:50 UTC                    Atlas V 541 | Perseverance   \n",
       "\n",
       "  Status Rocket      Rocket Status Mission     Country  \\\n",
       "0  StatusActive   50.000000        Success         USA   \n",
       "1  StatusActive   29.750000        Success       China   \n",
       "2  StatusActive  153.792199        Success         USA   \n",
       "3  StatusActive   65.000000        Success  Kazakhstan   \n",
       "4  StatusActive  145.000000        Success         USA   \n",
       "\n",
       "                    DateTime  Year  \\\n",
       "0  2020-08-07 05:12:00+00:00  2020   \n",
       "1  2020-08-06 04:01:00+00:00  2020   \n",
       "2  2020-08-04 23:57:00+00:00  2020   \n",
       "3  2020-07-30 21:25:00+00:00  2020   \n",
       "4  2020-07-30 11:50:00+00:00  2020   \n",
       "\n",
       "                                         Launch_Site  Count Month  \n",
       "0              LC-39A, Kennedy Space Center, Florida      1   Aug  \n",
       "1  Site 9401 (SLS-2), Jiuquan Satellite Launch Ce...      1   Aug  \n",
       "2                           Pad A, Boca Chica, Texas      1   Aug  \n",
       "3                   Site 200/39, Baikonur Cosmodrome      1   Jul  \n",
       "4                SLC-41, Cape Canaveral AFS, Florida      1   Jul  "
      ]
     },
     "execution_count": 42,
     "metadata": {},
     "output_type": "execute_result"
    }
   ],
   "source": [
    "df.head()"
   ]
  },
  {
   "cell_type": "code",
   "execution_count": 43,
   "id": "30e0bf05",
   "metadata": {},
   "outputs": [],
   "source": [
    "df=df.drop(['Location','Datum','Detail','DateTime','Launch_Site','Month','Count'],axis=1)\n",
    "# Dropping unnecessary columns\n",
    "# axis=1 means we are dropping columns"
   ]
  },
  {
   "cell_type": "code",
   "execution_count": 44,
   "id": "0cca2efd",
   "metadata": {},
   "outputs": [
    {
     "data": {
      "text/plain": [
       "Success              3879\n",
       "Failure               339\n",
       "Partial Failure       102\n",
       "Prelaunch Failure       4\n",
       "Name: Status Mission, dtype: int64"
      ]
     },
     "execution_count": 44,
     "metadata": {},
     "output_type": "execute_result"
    }
   ],
   "source": [
    "df['Status Mission'].value_counts()# Counts of unique values"
   ]
  },
  {
   "cell_type": "code",
   "execution_count": 45,
   "id": "d66bf21c",
   "metadata": {},
   "outputs": [
    {
     "data": {
      "text/plain": [
       "Success    3879\n",
       "Failure     445\n",
       "Name: Status Mission, dtype: int64"
      ]
     },
     "execution_count": 45,
     "metadata": {},
     "output_type": "execute_result"
    }
   ],
   "source": [
    "df['Status Mission'] =df['Status Mission'].apply(lambda x: x if x == 'Success' else 'Failure')\n",
    "# converting four unique values namely Success, Failure, Partial Failure and Prelaunch Failure \n",
    "# into just two values namely Success and Failure\n",
    "df['Status Mission'].value_counts()"
   ]
  },
  {
   "cell_type": "code",
   "execution_count": 46,
   "id": "1c258383",
   "metadata": {},
   "outputs": [],
   "source": [
    "from sklearn.preprocessing import LabelEncoder\n",
    "encoder = LabelEncoder()# creating an object of labelEncoder class\n",
    "df['Status Mission'] = encoder.fit_transform(df['Status Mission'])# fit_transform() method scales all the data\n",
    "                                                                  # and convertes it into 0 and 1."
   ]
  },
  {
   "cell_type": "code",
   "execution_count": 47,
   "id": "ffc7c39d",
   "metadata": {},
   "outputs": [
    {
     "data": {
      "text/html": [
       "<div>\n",
       "<style scoped>\n",
       "    .dataframe tbody tr th:only-of-type {\n",
       "        vertical-align: middle;\n",
       "    }\n",
       "\n",
       "    .dataframe tbody tr th {\n",
       "        vertical-align: top;\n",
       "    }\n",
       "\n",
       "    .dataframe thead th {\n",
       "        text-align: right;\n",
       "    }\n",
       "</style>\n",
       "<table border=\"1\" class=\"dataframe\">\n",
       "  <thead>\n",
       "    <tr style=\"text-align: right;\">\n",
       "      <th></th>\n",
       "      <th>Company Name</th>\n",
       "      <th>Status Rocket</th>\n",
       "      <th>Rocket</th>\n",
       "      <th>Status Mission</th>\n",
       "      <th>Country</th>\n",
       "      <th>Year</th>\n",
       "    </tr>\n",
       "  </thead>\n",
       "  <tbody>\n",
       "    <tr>\n",
       "      <th>0</th>\n",
       "      <td>SpaceX</td>\n",
       "      <td>StatusActive</td>\n",
       "      <td>50.000000</td>\n",
       "      <td>1</td>\n",
       "      <td>USA</td>\n",
       "      <td>2020</td>\n",
       "    </tr>\n",
       "    <tr>\n",
       "      <th>1</th>\n",
       "      <td>CASC</td>\n",
       "      <td>StatusActive</td>\n",
       "      <td>29.750000</td>\n",
       "      <td>1</td>\n",
       "      <td>China</td>\n",
       "      <td>2020</td>\n",
       "    </tr>\n",
       "    <tr>\n",
       "      <th>2</th>\n",
       "      <td>SpaceX</td>\n",
       "      <td>StatusActive</td>\n",
       "      <td>153.792199</td>\n",
       "      <td>1</td>\n",
       "      <td>USA</td>\n",
       "      <td>2020</td>\n",
       "    </tr>\n",
       "    <tr>\n",
       "      <th>3</th>\n",
       "      <td>Roscosmos</td>\n",
       "      <td>StatusActive</td>\n",
       "      <td>65.000000</td>\n",
       "      <td>1</td>\n",
       "      <td>Kazakhstan</td>\n",
       "      <td>2020</td>\n",
       "    </tr>\n",
       "    <tr>\n",
       "      <th>4</th>\n",
       "      <td>ULA</td>\n",
       "      <td>StatusActive</td>\n",
       "      <td>145.000000</td>\n",
       "      <td>1</td>\n",
       "      <td>USA</td>\n",
       "      <td>2020</td>\n",
       "    </tr>\n",
       "    <tr>\n",
       "      <th>5</th>\n",
       "      <td>CASC</td>\n",
       "      <td>StatusActive</td>\n",
       "      <td>64.680000</td>\n",
       "      <td>1</td>\n",
       "      <td>China</td>\n",
       "      <td>2020</td>\n",
       "    </tr>\n",
       "    <tr>\n",
       "      <th>6</th>\n",
       "      <td>Roscosmos</td>\n",
       "      <td>StatusActive</td>\n",
       "      <td>48.500000</td>\n",
       "      <td>1</td>\n",
       "      <td>Kazakhstan</td>\n",
       "      <td>2020</td>\n",
       "    </tr>\n",
       "    <tr>\n",
       "      <th>7</th>\n",
       "      <td>CASC</td>\n",
       "      <td>StatusActive</td>\n",
       "      <td>153.792199</td>\n",
       "      <td>1</td>\n",
       "      <td>China</td>\n",
       "      <td>2020</td>\n",
       "    </tr>\n",
       "    <tr>\n",
       "      <th>8</th>\n",
       "      <td>SpaceX</td>\n",
       "      <td>StatusActive</td>\n",
       "      <td>50.000000</td>\n",
       "      <td>1</td>\n",
       "      <td>USA</td>\n",
       "      <td>2020</td>\n",
       "    </tr>\n",
       "    <tr>\n",
       "      <th>9</th>\n",
       "      <td>JAXA</td>\n",
       "      <td>StatusActive</td>\n",
       "      <td>90.000000</td>\n",
       "      <td>1</td>\n",
       "      <td>Japan</td>\n",
       "      <td>2020</td>\n",
       "    </tr>\n",
       "  </tbody>\n",
       "</table>\n",
       "</div>"
      ],
      "text/plain": [
       "  Company Name Status Rocket      Rocket  Status Mission     Country  Year\n",
       "0       SpaceX  StatusActive   50.000000               1         USA  2020\n",
       "1         CASC  StatusActive   29.750000               1       China  2020\n",
       "2       SpaceX  StatusActive  153.792199               1         USA  2020\n",
       "3    Roscosmos  StatusActive   65.000000               1  Kazakhstan  2020\n",
       "4          ULA  StatusActive  145.000000               1         USA  2020\n",
       "5         CASC  StatusActive   64.680000               1       China  2020\n",
       "6    Roscosmos  StatusActive   48.500000               1  Kazakhstan  2020\n",
       "7         CASC  StatusActive  153.792199               1       China  2020\n",
       "8       SpaceX  StatusActive   50.000000               1         USA  2020\n",
       "9         JAXA  StatusActive   90.000000               1       Japan  2020"
      ]
     },
     "execution_count": 47,
     "metadata": {},
     "output_type": "execute_result"
    }
   ],
   "source": [
    "df[:10]"
   ]
  },
  {
   "cell_type": "code",
   "execution_count": 48,
   "id": "cad36820",
   "metadata": {},
   "outputs": [
    {
     "data": {
      "text/plain": [
       "1    3879\n",
       "0     445\n",
       "Name: Status Mission, dtype: int64"
      ]
     },
     "execution_count": 48,
     "metadata": {},
     "output_type": "execute_result"
    }
   ],
   "source": [
    "df['Status Mission'].value_counts()"
   ]
  },
  {
   "cell_type": "code",
   "execution_count": 49,
   "id": "d600f4d1",
   "metadata": {},
   "outputs": [],
   "source": [
    "encoder = LabelEncoder()\n",
    "df['Status Rocket']=encoder.fit_transform(df['Status Rocket'])"
   ]
  },
  {
   "cell_type": "code",
   "execution_count": 50,
   "id": "c5f596ad",
   "metadata": {},
   "outputs": [
    {
     "data": {
      "text/html": [
       "<div>\n",
       "<style scoped>\n",
       "    .dataframe tbody tr th:only-of-type {\n",
       "        vertical-align: middle;\n",
       "    }\n",
       "\n",
       "    .dataframe tbody tr th {\n",
       "        vertical-align: top;\n",
       "    }\n",
       "\n",
       "    .dataframe thead th {\n",
       "        text-align: right;\n",
       "    }\n",
       "</style>\n",
       "<table border=\"1\" class=\"dataframe\">\n",
       "  <thead>\n",
       "    <tr style=\"text-align: right;\">\n",
       "      <th></th>\n",
       "      <th>Company Name</th>\n",
       "      <th>Status Rocket</th>\n",
       "      <th>Rocket</th>\n",
       "      <th>Status Mission</th>\n",
       "      <th>Country</th>\n",
       "      <th>Year</th>\n",
       "    </tr>\n",
       "  </thead>\n",
       "  <tbody>\n",
       "    <tr>\n",
       "      <th>0</th>\n",
       "      <td>SpaceX</td>\n",
       "      <td>0</td>\n",
       "      <td>50.000000</td>\n",
       "      <td>1</td>\n",
       "      <td>USA</td>\n",
       "      <td>2020</td>\n",
       "    </tr>\n",
       "    <tr>\n",
       "      <th>1</th>\n",
       "      <td>CASC</td>\n",
       "      <td>0</td>\n",
       "      <td>29.750000</td>\n",
       "      <td>1</td>\n",
       "      <td>China</td>\n",
       "      <td>2020</td>\n",
       "    </tr>\n",
       "    <tr>\n",
       "      <th>2</th>\n",
       "      <td>SpaceX</td>\n",
       "      <td>0</td>\n",
       "      <td>153.792199</td>\n",
       "      <td>1</td>\n",
       "      <td>USA</td>\n",
       "      <td>2020</td>\n",
       "    </tr>\n",
       "    <tr>\n",
       "      <th>3</th>\n",
       "      <td>Roscosmos</td>\n",
       "      <td>0</td>\n",
       "      <td>65.000000</td>\n",
       "      <td>1</td>\n",
       "      <td>Kazakhstan</td>\n",
       "      <td>2020</td>\n",
       "    </tr>\n",
       "    <tr>\n",
       "      <th>4</th>\n",
       "      <td>ULA</td>\n",
       "      <td>0</td>\n",
       "      <td>145.000000</td>\n",
       "      <td>1</td>\n",
       "      <td>USA</td>\n",
       "      <td>2020</td>\n",
       "    </tr>\n",
       "  </tbody>\n",
       "</table>\n",
       "</div>"
      ],
      "text/plain": [
       "  Company Name  Status Rocket      Rocket  Status Mission     Country  Year\n",
       "0       SpaceX              0   50.000000               1         USA  2020\n",
       "1         CASC              0   29.750000               1       China  2020\n",
       "2       SpaceX              0  153.792199               1         USA  2020\n",
       "3    Roscosmos              0   65.000000               1  Kazakhstan  2020\n",
       "4          ULA              0  145.000000               1         USA  2020"
      ]
     },
     "execution_count": 50,
     "metadata": {},
     "output_type": "execute_result"
    }
   ],
   "source": [
    "df.head()"
   ]
  },
  {
   "cell_type": "code",
   "execution_count": 51,
   "id": "95f8fa71",
   "metadata": {},
   "outputs": [
    {
     "data": {
      "text/plain": [
       "1    3534\n",
       "0     790\n",
       "Name: Status Rocket, dtype: int64"
      ]
     },
     "execution_count": 51,
     "metadata": {},
     "output_type": "execute_result"
    }
   ],
   "source": [
    "df['Status Rocket'].value_counts()"
   ]
  },
  {
   "cell_type": "code",
   "execution_count": 52,
   "id": "c94d57e9",
   "metadata": {},
   "outputs": [],
   "source": [
    "df=df.drop(['Country'],axis=1)"
   ]
  },
  {
   "cell_type": "code",
   "execution_count": 53,
   "id": "0e36ef20",
   "metadata": {},
   "outputs": [
    {
     "data": {
      "text/html": [
       "<div>\n",
       "<style scoped>\n",
       "    .dataframe tbody tr th:only-of-type {\n",
       "        vertical-align: middle;\n",
       "    }\n",
       "\n",
       "    .dataframe tbody tr th {\n",
       "        vertical-align: top;\n",
       "    }\n",
       "\n",
       "    .dataframe thead th {\n",
       "        text-align: right;\n",
       "    }\n",
       "</style>\n",
       "<table border=\"1\" class=\"dataframe\">\n",
       "  <thead>\n",
       "    <tr style=\"text-align: right;\">\n",
       "      <th></th>\n",
       "      <th>Company Name</th>\n",
       "      <th>Status Rocket</th>\n",
       "      <th>Rocket</th>\n",
       "      <th>Status Mission</th>\n",
       "      <th>Year</th>\n",
       "    </tr>\n",
       "  </thead>\n",
       "  <tbody>\n",
       "    <tr>\n",
       "      <th>0</th>\n",
       "      <td>SpaceX</td>\n",
       "      <td>0</td>\n",
       "      <td>50.000000</td>\n",
       "      <td>1</td>\n",
       "      <td>2020</td>\n",
       "    </tr>\n",
       "    <tr>\n",
       "      <th>1</th>\n",
       "      <td>CASC</td>\n",
       "      <td>0</td>\n",
       "      <td>29.750000</td>\n",
       "      <td>1</td>\n",
       "      <td>2020</td>\n",
       "    </tr>\n",
       "    <tr>\n",
       "      <th>2</th>\n",
       "      <td>SpaceX</td>\n",
       "      <td>0</td>\n",
       "      <td>153.792199</td>\n",
       "      <td>1</td>\n",
       "      <td>2020</td>\n",
       "    </tr>\n",
       "    <tr>\n",
       "      <th>3</th>\n",
       "      <td>Roscosmos</td>\n",
       "      <td>0</td>\n",
       "      <td>65.000000</td>\n",
       "      <td>1</td>\n",
       "      <td>2020</td>\n",
       "    </tr>\n",
       "    <tr>\n",
       "      <th>4</th>\n",
       "      <td>ULA</td>\n",
       "      <td>0</td>\n",
       "      <td>145.000000</td>\n",
       "      <td>1</td>\n",
       "      <td>2020</td>\n",
       "    </tr>\n",
       "  </tbody>\n",
       "</table>\n",
       "</div>"
      ],
      "text/plain": [
       "  Company Name  Status Rocket      Rocket  Status Mission  Year\n",
       "0       SpaceX              0   50.000000               1  2020\n",
       "1         CASC              0   29.750000               1  2020\n",
       "2       SpaceX              0  153.792199               1  2020\n",
       "3    Roscosmos              0   65.000000               1  2020\n",
       "4          ULA              0  145.000000               1  2020"
      ]
     },
     "execution_count": 53,
     "metadata": {},
     "output_type": "execute_result"
    }
   ],
   "source": [
    "df.head()"
   ]
  },
  {
   "cell_type": "code",
   "execution_count": 54,
   "id": "3f40be60",
   "metadata": {},
   "outputs": [],
   "source": [
    "# ONE HOT ENCODING THE COUNTRY COLUMN"
   ]
  },
  {
   "cell_type": "code",
   "execution_count": 55,
   "id": "0a0a8cc6",
   "metadata": {},
   "outputs": [],
   "source": [
    "def onehot_encode(data, column):\n",
    "    dummies = pd.get_dummies(data[column])\n",
    "    data = pd.concat([data, dummies], axis=1)\n",
    "    data.drop(column, axis=1, inplace=True)\n",
    "    return data"
   ]
  },
  {
   "cell_type": "code",
   "execution_count": 62,
   "id": "a2c2df92",
   "metadata": {},
   "outputs": [],
   "source": [
    "df=onehot_encode(df,'Company Name')"
   ]
  },
  {
   "cell_type": "code",
   "execution_count": 63,
   "id": "e4ff2b09",
   "metadata": {},
   "outputs": [
    {
     "data": {
      "text/html": [
       "<div>\n",
       "<style scoped>\n",
       "    .dataframe tbody tr th:only-of-type {\n",
       "        vertical-align: middle;\n",
       "    }\n",
       "\n",
       "    .dataframe tbody tr th {\n",
       "        vertical-align: top;\n",
       "    }\n",
       "\n",
       "    .dataframe thead th {\n",
       "        text-align: right;\n",
       "    }\n",
       "</style>\n",
       "<table border=\"1\" class=\"dataframe\">\n",
       "  <thead>\n",
       "    <tr style=\"text-align: right;\">\n",
       "      <th></th>\n",
       "      <th>Status Rocket</th>\n",
       "      <th>Rocket</th>\n",
       "      <th>Status Mission</th>\n",
       "      <th>Year</th>\n",
       "      <th>AEB</th>\n",
       "      <th>AMBA</th>\n",
       "      <th>ASI</th>\n",
       "      <th>Arianespace</th>\n",
       "      <th>Arm??e de l'Air</th>\n",
       "      <th>Blue Origin</th>\n",
       "      <th>...</th>\n",
       "      <th>SpaceX</th>\n",
       "      <th>Starsem</th>\n",
       "      <th>ULA</th>\n",
       "      <th>US Air Force</th>\n",
       "      <th>US Navy</th>\n",
       "      <th>UT</th>\n",
       "      <th>VKS RF</th>\n",
       "      <th>Virgin Orbit</th>\n",
       "      <th>Yuzhmash</th>\n",
       "      <th>i-Space</th>\n",
       "    </tr>\n",
       "  </thead>\n",
       "  <tbody>\n",
       "    <tr>\n",
       "      <th>0</th>\n",
       "      <td>0</td>\n",
       "      <td>50.000000</td>\n",
       "      <td>1</td>\n",
       "      <td>2020</td>\n",
       "      <td>0</td>\n",
       "      <td>0</td>\n",
       "      <td>0</td>\n",
       "      <td>0</td>\n",
       "      <td>0</td>\n",
       "      <td>0</td>\n",
       "      <td>...</td>\n",
       "      <td>1</td>\n",
       "      <td>0</td>\n",
       "      <td>0</td>\n",
       "      <td>0</td>\n",
       "      <td>0</td>\n",
       "      <td>0</td>\n",
       "      <td>0</td>\n",
       "      <td>0</td>\n",
       "      <td>0</td>\n",
       "      <td>0</td>\n",
       "    </tr>\n",
       "    <tr>\n",
       "      <th>1</th>\n",
       "      <td>0</td>\n",
       "      <td>29.750000</td>\n",
       "      <td>1</td>\n",
       "      <td>2020</td>\n",
       "      <td>0</td>\n",
       "      <td>0</td>\n",
       "      <td>0</td>\n",
       "      <td>0</td>\n",
       "      <td>0</td>\n",
       "      <td>0</td>\n",
       "      <td>...</td>\n",
       "      <td>0</td>\n",
       "      <td>0</td>\n",
       "      <td>0</td>\n",
       "      <td>0</td>\n",
       "      <td>0</td>\n",
       "      <td>0</td>\n",
       "      <td>0</td>\n",
       "      <td>0</td>\n",
       "      <td>0</td>\n",
       "      <td>0</td>\n",
       "    </tr>\n",
       "    <tr>\n",
       "      <th>2</th>\n",
       "      <td>0</td>\n",
       "      <td>153.792199</td>\n",
       "      <td>1</td>\n",
       "      <td>2020</td>\n",
       "      <td>0</td>\n",
       "      <td>0</td>\n",
       "      <td>0</td>\n",
       "      <td>0</td>\n",
       "      <td>0</td>\n",
       "      <td>0</td>\n",
       "      <td>...</td>\n",
       "      <td>1</td>\n",
       "      <td>0</td>\n",
       "      <td>0</td>\n",
       "      <td>0</td>\n",
       "      <td>0</td>\n",
       "      <td>0</td>\n",
       "      <td>0</td>\n",
       "      <td>0</td>\n",
       "      <td>0</td>\n",
       "      <td>0</td>\n",
       "    </tr>\n",
       "    <tr>\n",
       "      <th>3</th>\n",
       "      <td>0</td>\n",
       "      <td>65.000000</td>\n",
       "      <td>1</td>\n",
       "      <td>2020</td>\n",
       "      <td>0</td>\n",
       "      <td>0</td>\n",
       "      <td>0</td>\n",
       "      <td>0</td>\n",
       "      <td>0</td>\n",
       "      <td>0</td>\n",
       "      <td>...</td>\n",
       "      <td>0</td>\n",
       "      <td>0</td>\n",
       "      <td>0</td>\n",
       "      <td>0</td>\n",
       "      <td>0</td>\n",
       "      <td>0</td>\n",
       "      <td>0</td>\n",
       "      <td>0</td>\n",
       "      <td>0</td>\n",
       "      <td>0</td>\n",
       "    </tr>\n",
       "    <tr>\n",
       "      <th>4</th>\n",
       "      <td>0</td>\n",
       "      <td>145.000000</td>\n",
       "      <td>1</td>\n",
       "      <td>2020</td>\n",
       "      <td>0</td>\n",
       "      <td>0</td>\n",
       "      <td>0</td>\n",
       "      <td>0</td>\n",
       "      <td>0</td>\n",
       "      <td>0</td>\n",
       "      <td>...</td>\n",
       "      <td>0</td>\n",
       "      <td>0</td>\n",
       "      <td>1</td>\n",
       "      <td>0</td>\n",
       "      <td>0</td>\n",
       "      <td>0</td>\n",
       "      <td>0</td>\n",
       "      <td>0</td>\n",
       "      <td>0</td>\n",
       "      <td>0</td>\n",
       "    </tr>\n",
       "  </tbody>\n",
       "</table>\n",
       "<p>5 rows × 60 columns</p>\n",
       "</div>"
      ],
      "text/plain": [
       "   Status Rocket      Rocket  Status Mission  Year  AEB  AMBA  ASI  \\\n",
       "0              0   50.000000               1  2020    0     0    0   \n",
       "1              0   29.750000               1  2020    0     0    0   \n",
       "2              0  153.792199               1  2020    0     0    0   \n",
       "3              0   65.000000               1  2020    0     0    0   \n",
       "4              0  145.000000               1  2020    0     0    0   \n",
       "\n",
       "   Arianespace  Arm??e de l'Air  Blue Origin  ...  SpaceX  Starsem  ULA  \\\n",
       "0            0                0            0  ...       1        0    0   \n",
       "1            0                0            0  ...       0        0    0   \n",
       "2            0                0            0  ...       1        0    0   \n",
       "3            0                0            0  ...       0        0    0   \n",
       "4            0                0            0  ...       0        0    1   \n",
       "\n",
       "   US Air Force  US Navy  UT  VKS RF  Virgin Orbit  Yuzhmash  i-Space  \n",
       "0             0        0   0       0             0         0        0  \n",
       "1             0        0   0       0             0         0        0  \n",
       "2             0        0   0       0             0         0        0  \n",
       "3             0        0   0       0             0         0        0  \n",
       "4             0        0   0       0             0         0        0  \n",
       "\n",
       "[5 rows x 60 columns]"
      ]
     },
     "execution_count": 63,
     "metadata": {},
     "output_type": "execute_result"
    }
   ],
   "source": [
    "df.head()"
   ]
  },
  {
   "cell_type": "code",
   "execution_count": 64,
   "id": "d0d27f1d",
   "metadata": {},
   "outputs": [],
   "source": [
    "X=df.drop('Status Mission',axis=1)\n",
    "y=df['Status Mission']"
   ]
  },
  {
   "cell_type": "code",
   "execution_count": 65,
   "id": "555f0740",
   "metadata": {},
   "outputs": [
    {
     "data": {
      "text/plain": [
       "0    1\n",
       "1    1\n",
       "2    1\n",
       "3    1\n",
       "4    1\n",
       "Name: Status Mission, dtype: int32"
      ]
     },
     "execution_count": 65,
     "metadata": {},
     "output_type": "execute_result"
    }
   ],
   "source": [
    "y.head()"
   ]
  },
  {
   "cell_type": "code",
   "execution_count": 66,
   "id": "7713b0d0",
   "metadata": {},
   "outputs": [],
   "source": [
    "from sklearn.model_selection import train_test_split\n",
    "X_train, X_test, y_train, y_test = train_test_split(X, y, train_size=0.7,random_state=101)"
   ]
  },
  {
   "cell_type": "code",
   "execution_count": 67,
   "id": "8ac2f057",
   "metadata": {},
   "outputs": [
    {
     "data": {
      "text/html": [
       "<div>\n",
       "<style scoped>\n",
       "    .dataframe tbody tr th:only-of-type {\n",
       "        vertical-align: middle;\n",
       "    }\n",
       "\n",
       "    .dataframe tbody tr th {\n",
       "        vertical-align: top;\n",
       "    }\n",
       "\n",
       "    .dataframe thead th {\n",
       "        text-align: right;\n",
       "    }\n",
       "</style>\n",
       "<table border=\"1\" class=\"dataframe\">\n",
       "  <thead>\n",
       "    <tr style=\"text-align: right;\">\n",
       "      <th></th>\n",
       "      <th>Status Rocket</th>\n",
       "      <th>Rocket</th>\n",
       "      <th>Year</th>\n",
       "      <th>AEB</th>\n",
       "      <th>AMBA</th>\n",
       "      <th>ASI</th>\n",
       "      <th>Arianespace</th>\n",
       "      <th>Arm??e de l'Air</th>\n",
       "      <th>Blue Origin</th>\n",
       "      <th>Boeing</th>\n",
       "      <th>...</th>\n",
       "      <th>SpaceX</th>\n",
       "      <th>Starsem</th>\n",
       "      <th>ULA</th>\n",
       "      <th>US Air Force</th>\n",
       "      <th>US Navy</th>\n",
       "      <th>UT</th>\n",
       "      <th>VKS RF</th>\n",
       "      <th>Virgin Orbit</th>\n",
       "      <th>Yuzhmash</th>\n",
       "      <th>i-Space</th>\n",
       "    </tr>\n",
       "  </thead>\n",
       "  <tbody>\n",
       "    <tr>\n",
       "      <th>3677</th>\n",
       "      <td>1</td>\n",
       "      <td>59.000000</td>\n",
       "      <td>1968</td>\n",
       "      <td>0</td>\n",
       "      <td>0</td>\n",
       "      <td>0</td>\n",
       "      <td>0</td>\n",
       "      <td>0</td>\n",
       "      <td>0</td>\n",
       "      <td>0</td>\n",
       "      <td>...</td>\n",
       "      <td>0</td>\n",
       "      <td>0</td>\n",
       "      <td>0</td>\n",
       "      <td>1</td>\n",
       "      <td>0</td>\n",
       "      <td>0</td>\n",
       "      <td>0</td>\n",
       "      <td>0</td>\n",
       "      <td>0</td>\n",
       "      <td>0</td>\n",
       "    </tr>\n",
       "    <tr>\n",
       "      <th>1683</th>\n",
       "      <td>1</td>\n",
       "      <td>153.792199</td>\n",
       "      <td>1992</td>\n",
       "      <td>0</td>\n",
       "      <td>0</td>\n",
       "      <td>0</td>\n",
       "      <td>1</td>\n",
       "      <td>0</td>\n",
       "      <td>0</td>\n",
       "      <td>0</td>\n",
       "      <td>...</td>\n",
       "      <td>0</td>\n",
       "      <td>0</td>\n",
       "      <td>0</td>\n",
       "      <td>0</td>\n",
       "      <td>0</td>\n",
       "      <td>0</td>\n",
       "      <td>0</td>\n",
       "      <td>0</td>\n",
       "      <td>0</td>\n",
       "      <td>0</td>\n",
       "    </tr>\n",
       "    <tr>\n",
       "      <th>1193</th>\n",
       "      <td>1</td>\n",
       "      <td>153.792199</td>\n",
       "      <td>2000</td>\n",
       "      <td>0</td>\n",
       "      <td>0</td>\n",
       "      <td>0</td>\n",
       "      <td>0</td>\n",
       "      <td>0</td>\n",
       "      <td>0</td>\n",
       "      <td>0</td>\n",
       "      <td>...</td>\n",
       "      <td>0</td>\n",
       "      <td>0</td>\n",
       "      <td>0</td>\n",
       "      <td>0</td>\n",
       "      <td>0</td>\n",
       "      <td>0</td>\n",
       "      <td>0</td>\n",
       "      <td>0</td>\n",
       "      <td>0</td>\n",
       "      <td>0</td>\n",
       "    </tr>\n",
       "    <tr>\n",
       "      <th>2266</th>\n",
       "      <td>1</td>\n",
       "      <td>153.792199</td>\n",
       "      <td>1983</td>\n",
       "      <td>0</td>\n",
       "      <td>0</td>\n",
       "      <td>0</td>\n",
       "      <td>0</td>\n",
       "      <td>0</td>\n",
       "      <td>0</td>\n",
       "      <td>0</td>\n",
       "      <td>...</td>\n",
       "      <td>0</td>\n",
       "      <td>0</td>\n",
       "      <td>0</td>\n",
       "      <td>0</td>\n",
       "      <td>0</td>\n",
       "      <td>0</td>\n",
       "      <td>0</td>\n",
       "      <td>0</td>\n",
       "      <td>0</td>\n",
       "      <td>0</td>\n",
       "    </tr>\n",
       "    <tr>\n",
       "      <th>2968</th>\n",
       "      <td>1</td>\n",
       "      <td>153.792199</td>\n",
       "      <td>1975</td>\n",
       "      <td>0</td>\n",
       "      <td>0</td>\n",
       "      <td>0</td>\n",
       "      <td>0</td>\n",
       "      <td>0</td>\n",
       "      <td>0</td>\n",
       "      <td>0</td>\n",
       "      <td>...</td>\n",
       "      <td>0</td>\n",
       "      <td>0</td>\n",
       "      <td>0</td>\n",
       "      <td>0</td>\n",
       "      <td>0</td>\n",
       "      <td>0</td>\n",
       "      <td>0</td>\n",
       "      <td>0</td>\n",
       "      <td>0</td>\n",
       "      <td>0</td>\n",
       "    </tr>\n",
       "  </tbody>\n",
       "</table>\n",
       "<p>5 rows × 59 columns</p>\n",
       "</div>"
      ],
      "text/plain": [
       "      Status Rocket      Rocket  Year  AEB  AMBA  ASI  Arianespace  \\\n",
       "3677              1   59.000000  1968    0     0    0            0   \n",
       "1683              1  153.792199  1992    0     0    0            1   \n",
       "1193              1  153.792199  2000    0     0    0            0   \n",
       "2266              1  153.792199  1983    0     0    0            0   \n",
       "2968              1  153.792199  1975    0     0    0            0   \n",
       "\n",
       "      Arm??e de l'Air  Blue Origin  Boeing  ...  SpaceX  Starsem  ULA  \\\n",
       "3677                0            0       0  ...       0        0    0   \n",
       "1683                0            0       0  ...       0        0    0   \n",
       "1193                0            0       0  ...       0        0    0   \n",
       "2266                0            0       0  ...       0        0    0   \n",
       "2968                0            0       0  ...       0        0    0   \n",
       "\n",
       "      US Air Force  US Navy  UT  VKS RF  Virgin Orbit  Yuzhmash  i-Space  \n",
       "3677             1        0   0       0             0         0        0  \n",
       "1683             0        0   0       0             0         0        0  \n",
       "1193             0        0   0       0             0         0        0  \n",
       "2266             0        0   0       0             0         0        0  \n",
       "2968             0        0   0       0             0         0        0  \n",
       "\n",
       "[5 rows x 59 columns]"
      ]
     },
     "execution_count": 67,
     "metadata": {},
     "output_type": "execute_result"
    }
   ],
   "source": [
    "X_train.head()"
   ]
  },
  {
   "cell_type": "code",
   "execution_count": 68,
   "id": "b2c36144",
   "metadata": {},
   "outputs": [],
   "source": [
    "from sklearn.preprocessing import StandardScaler\n",
    "scaler=StandardScaler()\n",
    "scaled_X_train=scaler.fit_transform(X_train)\n",
    "scaled_X_test=scaler.transform(X_test)"
   ]
  },
  {
   "cell_type": "code",
   "execution_count": 69,
   "id": "44cb799b",
   "metadata": {},
   "outputs": [
    {
     "data": {
      "text/plain": [
       "array([[ 0.47026172, -0.62229982, -1.07893777, ..., -0.01818182,\n",
       "        -0.02571722, -0.01818182],\n",
       "       [ 0.47026172, -0.01259235,  0.25227945, ..., -0.01818182,\n",
       "        -0.02571722, -0.01818182],\n",
       "       [ 0.47026172, -0.01259235,  0.69601852, ..., -0.01818182,\n",
       "        -0.02571722, -0.01818182],\n",
       "       ...,\n",
       "       [-2.12647544,  0.28461819,  1.41709452, ..., -0.01818182,\n",
       "        -0.02571722, -0.01818182],\n",
       "       [ 0.47026172, -0.01259235,  0.52961637, ..., -0.01818182,\n",
       "        -0.02571722, -0.01818182],\n",
       "       [ 0.47026172, -0.01259235,  0.36321422, ..., -0.01818182,\n",
       "        -0.02571722, -0.01818182]])"
      ]
     },
     "execution_count": 69,
     "metadata": {},
     "output_type": "execute_result"
    }
   ],
   "source": [
    "scaled_X_train"
   ]
  },
  {
   "cell_type": "code",
   "execution_count": 70,
   "id": "955ccd35",
   "metadata": {},
   "outputs": [
    {
     "data": {
      "text/plain": [
       "LogisticRegressionCV()"
      ]
     },
     "execution_count": 70,
     "metadata": {},
     "output_type": "execute_result"
    }
   ],
   "source": [
    "from sklearn.linear_model import LogisticRegressionCV\n",
    "log_model=LogisticRegressionCV()\n",
    "log_model.fit(scaled_X_train,y_train)"
   ]
  },
  {
   "cell_type": "code",
   "execution_count": 71,
   "id": "5a90d849",
   "metadata": {},
   "outputs": [
    {
     "data": {
      "text/plain": [
       "array([1, 1, 1, ..., 1, 1, 1])"
      ]
     },
     "execution_count": 71,
     "metadata": {},
     "output_type": "execute_result"
    }
   ],
   "source": [
    "y_pred=log_model.predict(scaled_X_test)\n",
    "y_pred"
   ]
  },
  {
   "cell_type": "code",
   "execution_count": 72,
   "id": "88190635",
   "metadata": {},
   "outputs": [
    {
     "data": {
      "text/plain": [
       "0.9090909090909091"
      ]
     },
     "execution_count": 72,
     "metadata": {},
     "output_type": "execute_result"
    }
   ],
   "source": [
    "from sklearn.metrics import accuracy_score,confusion_matrix,classification_report\n",
    "accuracy_score(y_test,y_pred)"
   ]
  },
  {
   "cell_type": "code",
   "execution_count": 73,
   "id": "5981254d",
   "metadata": {},
   "outputs": [
    {
     "data": {
      "text/plain": [
       "array([[   9,  114],\n",
       "       [   4, 1171]], dtype=int64)"
      ]
     },
     "execution_count": 73,
     "metadata": {},
     "output_type": "execute_result"
    }
   ],
   "source": [
    "confusion_matrix(y_test,y_pred)"
   ]
  },
  {
   "cell_type": "code",
   "execution_count": 74,
   "id": "f69dc027",
   "metadata": {},
   "outputs": [
    {
     "name": "stdout",
     "output_type": "stream",
     "text": [
      "              precision    recall  f1-score   support\n",
      "\n",
      "           0       0.69      0.07      0.13       123\n",
      "           1       0.91      1.00      0.95      1175\n",
      "\n",
      "    accuracy                           0.91      1298\n",
      "   macro avg       0.80      0.53      0.54      1298\n",
      "weighted avg       0.89      0.91      0.87      1298\n",
      "\n"
     ]
    }
   ],
   "source": [
    "print(classification_report(y_test,y_pred))"
   ]
  },
  {
   "cell_type": "code",
   "execution_count": 75,
   "id": "95d3f87c",
   "metadata": {},
   "outputs": [
    {
     "data": {
      "text/plain": [
       "RandomForestClassifier(n_estimators=200, random_state=101)"
      ]
     },
     "execution_count": 75,
     "metadata": {},
     "output_type": "execute_result"
    }
   ],
   "source": [
    "from sklearn.ensemble import RandomForestClassifier\n",
    "rfc=RandomForestClassifier(n_estimators=200,max_features='auto',random_state=101)\n",
    "rfc.fit(scaled_X_train,y_train)"
   ]
  },
  {
   "cell_type": "code",
   "execution_count": 76,
   "id": "2520eaef",
   "metadata": {},
   "outputs": [],
   "source": [
    "rfc_pred=rfc.predict(scaled_X_test)"
   ]
  },
  {
   "cell_type": "code",
   "execution_count": 77,
   "id": "dee186ea",
   "metadata": {},
   "outputs": [
    {
     "data": {
      "text/plain": [
       "0.8936825885978429"
      ]
     },
     "execution_count": 77,
     "metadata": {},
     "output_type": "execute_result"
    }
   ],
   "source": [
    "accuracy_score(rfc_pred,y_test)"
   ]
  },
  {
   "cell_type": "code",
   "execution_count": 78,
   "id": "76cde319",
   "metadata": {},
   "outputs": [
    {
     "name": "stdout",
     "output_type": "stream",
     "text": [
      "[[  21  102]\n",
      " [  36 1139]]\n"
     ]
    }
   ],
   "source": [
    "print(confusion_matrix(y_test,rfc_pred))"
   ]
  },
  {
   "cell_type": "code",
   "execution_count": 79,
   "id": "d96913dd",
   "metadata": {},
   "outputs": [
    {
     "name": "stdout",
     "output_type": "stream",
     "text": [
      "              precision    recall  f1-score   support\n",
      "\n",
      "           0       0.37      0.17      0.23       123\n",
      "           1       0.92      0.97      0.94      1175\n",
      "\n",
      "    accuracy                           0.89      1298\n",
      "   macro avg       0.64      0.57      0.59      1298\n",
      "weighted avg       0.87      0.89      0.88      1298\n",
      "\n"
     ]
    }
   ],
   "source": [
    "print(classification_report(y_test,rfc_pred))"
   ]
  },
  {
   "cell_type": "code",
   "execution_count": null,
   "id": "2e9b5b34",
   "metadata": {},
   "outputs": [],
   "source": []
  }
 ],
 "metadata": {
  "kernelspec": {
   "display_name": "Python 3 (ipykernel)",
   "language": "python",
   "name": "python3"
  },
  "language_info": {
   "codemirror_mode": {
    "name": "ipython",
    "version": 3
   },
   "file_extension": ".py",
   "mimetype": "text/x-python",
   "name": "python",
   "nbconvert_exporter": "python",
   "pygments_lexer": "ipython3",
   "version": "3.9.13"
  }
 },
 "nbformat": 4,
 "nbformat_minor": 5
}
